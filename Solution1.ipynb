{
  "nbformat": 4,
  "nbformat_minor": 0,
  "metadata": {
    "colab": {
      "provenance": [],
      "collapsed_sections": [],
      "authorship_tag": "ABX9TyPdhM3C0zG9mt3E35uXfDLw",
      "include_colab_link": true
    },
    "kernelspec": {
      "name": "python3",
      "display_name": "Python 3"
    },
    "language_info": {
      "name": "python"
    }
  },
  "cells": [
    {
      "cell_type": "markdown",
      "metadata": {
        "id": "view-in-github",
        "colab_type": "text"
      },
      "source": [
        "<a href=\"https://colab.research.google.com/github/archisha13/GDSC_task/blob/main/Solution1.ipynb\" target=\"_parent\"><img src=\"https://colab.research.google.com/assets/colab-badge.svg\" alt=\"Open In Colab\"/></a>"
      ]
    },
    {
      "cell_type": "markdown",
      "source": [
        "# QUESTION 1"
      ],
      "metadata": {
        "id": "Uu0xW4WunI99"
      }
    },
    {
      "cell_type": "code",
      "execution_count": 1,
      "metadata": {
        "colab": {
          "base_uri": "https://localhost:8080/"
        },
        "id": "bn8erWNWnEuK",
        "outputId": "d2308e8d-f485-40de-ae50-9081339987d4"
      },
      "outputs": [
        {
          "output_type": "stream",
          "name": "stdout",
          "text": [
            "ComputerProgrammingIsForGeeks1234\n",
            "Output1:\n",
            " DpnqvufsQsphsbnnjohJtGpsHfflt1234 \n",
            "Output2:\n",
            " 4321tlffHspGtJhojnnbshpsQsfuvqnpD \n",
            "Output3:\n",
            " CmuePormigsoGes24\n"
          ]
        }
      ],
      "source": [
        "'''\n",
        "Every letter in the string should be changed to its succeeding alphabet \n",
        "(ie., c becomes d, z becomes a).\n",
        " Numbers are left unchanged. (Hint: lists can be used)\n",
        "'''\n",
        "\n",
        "def StringManipulation(strParam):\n",
        "\n",
        "  strParam_a=strParam\n",
        "\n",
        "  final_str=''\n",
        "  for i in range(len(strParam_a)):\n",
        "    \n",
        "    if(ord(strParam[i])>=97 and ord(strParam[i])<=122) or (ord(strParam[i])>=65 and ord(strParam[i])<=90):\n",
        "      word=chr(ord(strParam_a[i])+1)\n",
        "\n",
        "      if(strParam_a[i]=='z'):\n",
        "        final_str=final_str+'a'\n",
        "      elif(strParam_a[i]=='Z'):\n",
        "        final_str=final_str+'A'\n",
        "      else:\n",
        "        final_str=final_str+word\n",
        "    else:\n",
        "      final_str=final_str+strParam_a[i]\n",
        "  output1 = final_str\n",
        "  #The string is inverted after removing all vowels.\n",
        "  output2 = final_str[::-1]\n",
        "  #The string has every alternate character from the original string\n",
        "  output3 = strParam_a[::2]\n",
        "\n",
        "\n",
        "  # code goes here\n",
        "  print('Output1:\\n',output1,'\\nOutput2:\\n',output2,'\\nOutput3:\\n',output3)\n",
        "\n",
        "# keep this function call here \n",
        "StringManipulation(input())"
      ]
    },
    {
      "cell_type": "code",
      "source": [],
      "metadata": {
        "id": "cmsbXOFSnMiE"
      },
      "execution_count": null,
      "outputs": []
    }
  ]
}